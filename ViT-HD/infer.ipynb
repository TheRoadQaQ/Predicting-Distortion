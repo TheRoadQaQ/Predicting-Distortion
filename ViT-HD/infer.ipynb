{
 "cells": [
  {
   "cell_type": "code",
   "execution_count": null,
   "metadata": {},
   "outputs": [],
   "source": [
    "from .qwen2_vl_encoder_pixel_classification import Qwen2VLTForMalformPixelDetectionV1 \n",
    "from transformers.models.qwen2_vl.image_processing_qwen2_vl import Qwen2VLImageProcessor\n",
    "\n",
    "VIS_MODEL_PATH = \"./Qwen2-VL-7B-Instruct-Config\"\n",
    "model = Qwen2VLTForMalformPixelDetectionV1(2, VIS_MODEL_PATH)\n",
    "image_processor = Qwen2VLImageProcessor.from_pretrained(VIS_MODEL_PATH)"
   ]
  },
  {
   "cell_type": "code",
   "execution_count": null,
   "metadata": {},
   "outputs": [],
   "source": [
    "from safetensors.torch import load_file\n",
    "\n",
    "safe_tensor_path = \"./model.safetensors\"\n",
    "state_dict = load_file(safe_tensor_path)\n",
    "\n",
    "model.load_state_dict(state_dict)\n",
    "model.eval()\n",
    "model.to(\"cuda\")"
   ]
  },
  {
   "cell_type": "code",
   "execution_count": null,
   "metadata": {},
   "outputs": [],
   "source": [
    "from PIL import Image\n",
    "from tqdm import tqdm\n",
    "import torch\n",
    "\n",
    "image_path = \"./example1.png\"\n",
    "\n",
    "\n",
    "img = Image.open(image_path)\n",
    "img = img.resize((560, 560), Image.LANCZOS)\n",
    "\n",
    "image_input = image_processor(img, return_tensors=\"pt\").to(\"cuda\")\n",
    "pixel_values = image_input['pixel_values'].unsqueeze(0)\n",
    "image_grid_thw = image_input['image_grid_thw']\n",
    "logits = model(pixel_values, image_grid_thw).logits\n",
    "prob = torch.argmax(logits.softmax(dim=-1),dim=-1)[0].cpu().numpy()\n",
    "\n",
    "alpha = 0.4\n",
    "img_array = np.array(img)\n",
    "red_mask = np.zeros_like(img_array)\n",
    "red_mask[pixel_array >= 0.5] = [255, 0, 0]\n",
    "\n",
    "overlayed_img = img_array.copy()\n",
    "overlayed_img = (1 - alpha) * img_array + alpha * red_mask\n",
    "overlayed_img = overlayed_img.astype(np.uint8)\n",
    "overlayed_img = Image.fromarray(overlayed_img)\n",
    "\n",
    "draw = ImageDraw.Draw(overlayed_img)\n",
    "overlayed_img.show()"
   ]
  }
 ],
 "metadata": {
  "language_info": {
   "name": "python"
  }
 },
 "nbformat": 4,
 "nbformat_minor": 2
}
